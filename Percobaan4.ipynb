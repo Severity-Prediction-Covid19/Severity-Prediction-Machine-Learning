{
 "cells": [
  {
   "cell_type": "code",
   "execution_count": 1,
   "id": "2f5e60e1-5739-432d-b79a-160898e4d040",
   "metadata": {},
   "outputs": [],
   "source": [
    "import tensorflow as tf\n",
    "import numpy as np\n",
    "import pandas as pd\n",
    "from tensorflow import keras\n",
    "from tensorflow.keras import layers"
   ]
  },
  {
   "cell_type": "code",
   "execution_count": 2,
   "id": "76f5e55c-8f8d-4b9c-923d-c9fbf3ddc190",
   "metadata": {},
   "outputs": [
    {
     "data": {
      "text/html": [
       "<div>\n",
       "<style scoped>\n",
       "    .dataframe tbody tr th:only-of-type {\n",
       "        vertical-align: middle;\n",
       "    }\n",
       "\n",
       "    .dataframe tbody tr th {\n",
       "        vertical-align: top;\n",
       "    }\n",
       "\n",
       "    .dataframe thead th {\n",
       "        text-align: right;\n",
       "    }\n",
       "</style>\n",
       "<table border=\"1\" class=\"dataframe\">\n",
       "  <thead>\n",
       "    <tr style=\"text-align: right;\">\n",
       "      <th></th>\n",
       "      <th>Unnamed: 0</th>\n",
       "      <th>Fever</th>\n",
       "      <th>Tiredness</th>\n",
       "      <th>Dry-Cough</th>\n",
       "      <th>Difficulty-in-Breathing</th>\n",
       "      <th>Sore-Throat</th>\n",
       "      <th>None_Sympton</th>\n",
       "      <th>Pains</th>\n",
       "      <th>Nasal-Congestion</th>\n",
       "      <th>Runny-Nose</th>\n",
       "      <th>...</th>\n",
       "      <th>Gender_Male</th>\n",
       "      <th>Gender_Transgender</th>\n",
       "      <th>Severity_Mild</th>\n",
       "      <th>Severity_Moderate</th>\n",
       "      <th>Severity_None</th>\n",
       "      <th>Severity_Severe</th>\n",
       "      <th>Contact_Dont-Know</th>\n",
       "      <th>Contact_No</th>\n",
       "      <th>Contact_Yes</th>\n",
       "      <th>Country</th>\n",
       "    </tr>\n",
       "  </thead>\n",
       "  <tbody>\n",
       "    <tr>\n",
       "      <th>0</th>\n",
       "      <td>0</td>\n",
       "      <td>1</td>\n",
       "      <td>1</td>\n",
       "      <td>1</td>\n",
       "      <td>1</td>\n",
       "      <td>1</td>\n",
       "      <td>0</td>\n",
       "      <td>1</td>\n",
       "      <td>1</td>\n",
       "      <td>1</td>\n",
       "      <td>...</td>\n",
       "      <td>1</td>\n",
       "      <td>0</td>\n",
       "      <td>1</td>\n",
       "      <td>0</td>\n",
       "      <td>0</td>\n",
       "      <td>0</td>\n",
       "      <td>0</td>\n",
       "      <td>0</td>\n",
       "      <td>1</td>\n",
       "      <td>China</td>\n",
       "    </tr>\n",
       "    <tr>\n",
       "      <th>1</th>\n",
       "      <td>1</td>\n",
       "      <td>1</td>\n",
       "      <td>1</td>\n",
       "      <td>1</td>\n",
       "      <td>1</td>\n",
       "      <td>1</td>\n",
       "      <td>0</td>\n",
       "      <td>1</td>\n",
       "      <td>1</td>\n",
       "      <td>1</td>\n",
       "      <td>...</td>\n",
       "      <td>1</td>\n",
       "      <td>0</td>\n",
       "      <td>1</td>\n",
       "      <td>0</td>\n",
       "      <td>0</td>\n",
       "      <td>0</td>\n",
       "      <td>0</td>\n",
       "      <td>1</td>\n",
       "      <td>0</td>\n",
       "      <td>China</td>\n",
       "    </tr>\n",
       "    <tr>\n",
       "      <th>2</th>\n",
       "      <td>2</td>\n",
       "      <td>1</td>\n",
       "      <td>1</td>\n",
       "      <td>1</td>\n",
       "      <td>1</td>\n",
       "      <td>1</td>\n",
       "      <td>0</td>\n",
       "      <td>1</td>\n",
       "      <td>1</td>\n",
       "      <td>1</td>\n",
       "      <td>...</td>\n",
       "      <td>1</td>\n",
       "      <td>0</td>\n",
       "      <td>1</td>\n",
       "      <td>0</td>\n",
       "      <td>0</td>\n",
       "      <td>0</td>\n",
       "      <td>1</td>\n",
       "      <td>0</td>\n",
       "      <td>0</td>\n",
       "      <td>China</td>\n",
       "    </tr>\n",
       "    <tr>\n",
       "      <th>3</th>\n",
       "      <td>3</td>\n",
       "      <td>1</td>\n",
       "      <td>1</td>\n",
       "      <td>1</td>\n",
       "      <td>1</td>\n",
       "      <td>1</td>\n",
       "      <td>0</td>\n",
       "      <td>1</td>\n",
       "      <td>1</td>\n",
       "      <td>1</td>\n",
       "      <td>...</td>\n",
       "      <td>1</td>\n",
       "      <td>0</td>\n",
       "      <td>0</td>\n",
       "      <td>1</td>\n",
       "      <td>0</td>\n",
       "      <td>0</td>\n",
       "      <td>0</td>\n",
       "      <td>0</td>\n",
       "      <td>1</td>\n",
       "      <td>China</td>\n",
       "    </tr>\n",
       "    <tr>\n",
       "      <th>4</th>\n",
       "      <td>5</td>\n",
       "      <td>1</td>\n",
       "      <td>1</td>\n",
       "      <td>1</td>\n",
       "      <td>1</td>\n",
       "      <td>1</td>\n",
       "      <td>0</td>\n",
       "      <td>1</td>\n",
       "      <td>1</td>\n",
       "      <td>1</td>\n",
       "      <td>...</td>\n",
       "      <td>1</td>\n",
       "      <td>0</td>\n",
       "      <td>0</td>\n",
       "      <td>1</td>\n",
       "      <td>0</td>\n",
       "      <td>0</td>\n",
       "      <td>1</td>\n",
       "      <td>0</td>\n",
       "      <td>0</td>\n",
       "      <td>China</td>\n",
       "    </tr>\n",
       "  </tbody>\n",
       "</table>\n",
       "<p>5 rows × 28 columns</p>\n",
       "</div>"
      ],
      "text/plain": [
       "   Unnamed: 0  Fever  Tiredness  Dry-Cough  Difficulty-in-Breathing  \\\n",
       "0           0      1          1          1                        1   \n",
       "1           1      1          1          1                        1   \n",
       "2           2      1          1          1                        1   \n",
       "3           3      1          1          1                        1   \n",
       "4           5      1          1          1                        1   \n",
       "\n",
       "   Sore-Throat  None_Sympton  Pains  Nasal-Congestion  Runny-Nose  ...  \\\n",
       "0            1             0      1                 1           1  ...   \n",
       "1            1             0      1                 1           1  ...   \n",
       "2            1             0      1                 1           1  ...   \n",
       "3            1             0      1                 1           1  ...   \n",
       "4            1             0      1                 1           1  ...   \n",
       "\n",
       "   Gender_Male  Gender_Transgender  Severity_Mild  Severity_Moderate  \\\n",
       "0            1                   0              1                  0   \n",
       "1            1                   0              1                  0   \n",
       "2            1                   0              1                  0   \n",
       "3            1                   0              0                  1   \n",
       "4            1                   0              0                  1   \n",
       "\n",
       "   Severity_None  Severity_Severe  Contact_Dont-Know  Contact_No  Contact_Yes  \\\n",
       "0              0                0                  0           0            1   \n",
       "1              0                0                  0           1            0   \n",
       "2              0                0                  1           0            0   \n",
       "3              0                0                  0           0            1   \n",
       "4              0                0                  1           0            0   \n",
       "\n",
       "   Country  \n",
       "0    China  \n",
       "1    China  \n",
       "2    China  \n",
       "3    China  \n",
       "4    China  \n",
       "\n",
       "[5 rows x 28 columns]"
      ]
     },
     "execution_count": 2,
     "metadata": {},
     "output_type": "execute_result"
    }
   ],
   "source": [
    "dataku = pd.read_csv('train_test_data.csv')\n",
    "dataku.shape\n",
    "dataku.head()"
   ]
  },
  {
   "cell_type": "code",
   "execution_count": 3,
   "id": "491c4633-8526-42fd-94b1-250cb94debd6",
   "metadata": {},
   "outputs": [],
   "source": [
    "dataku = dataku.drop([\"Country\",\"Age_0-9\",\"Age_10-19\",\"Age_20-24\",\"Age_25-59\",\"Age_60+\",\"Gender_Female\",\"Gender_Male\",\"Gender_Transgender\",\"Contact_Dont-Know\",\"Contact_No\",\"Contact_Yes\"], axis=1)"
   ]
  },
  {
   "cell_type": "code",
   "execution_count": 4,
   "id": "30831bde-41d8-4f1c-99eb-968a66a16dfd",
   "metadata": {},
   "outputs": [
    {
     "name": "stdout",
     "output_type": "stream",
     "text": [
      "Using 202752 samples for training and 50688 for validation\n"
     ]
    }
   ],
   "source": [
    "val_dataku = dataku.sample(frac=0.2, random_state=1337)\n",
    "train_dataku = dataku.drop(val_dataku.index)\n",
    "\n",
    "print(\n",
    "    \"Using %d samples for training and %d for validation\"\n",
    "    % (len(train_dataku), len(val_dataku))\n",
    ")"
   ]
  },
  {
   "cell_type": "code",
   "execution_count": 5,
   "id": "e57087d2-230e-428a-bb56-62cbbe4c2f42",
   "metadata": {},
   "outputs": [],
   "source": [
    "def dataframe_to_dataset(dataframe):\n",
    "    dataframe = dataframe.copy()\n",
    "    labels = pd.concat([dataframe.pop(x) for x in ['Severity_Mild','Severity_Moderate','Severity_None','Severity_Severe']], axis=1)\n",
    "    ds = tf.data.Dataset.from_tensor_slices((dict(dataframe), labels))\n",
    "    ds = ds.shuffle(buffer_size=len(dataframe))\n",
    "    return ds\n",
    "\n",
    "\n",
    "train_ds = dataframe_to_dataset(train_dataku)\n",
    "val_ds = dataframe_to_dataset(val_dataku)"
   ]
  },
  {
   "cell_type": "code",
   "execution_count": 6,
   "id": "90b926b3-8bbc-41bb-b220-26bb855063c2",
   "metadata": {},
   "outputs": [
    {
     "name": "stdout",
     "output_type": "stream",
     "text": [
      "Input: {'Unnamed: 0': <tf.Tensor: shape=(), dtype=int64, numpy=87235>, 'Fever': <tf.Tensor: shape=(), dtype=int64, numpy=1>, 'Tiredness': <tf.Tensor: shape=(), dtype=int64, numpy=0>, 'Dry-Cough': <tf.Tensor: shape=(), dtype=int64, numpy=0>, 'Difficulty-in-Breathing': <tf.Tensor: shape=(), dtype=int64, numpy=0>, 'Sore-Throat': <tf.Tensor: shape=(), dtype=int64, numpy=0>, 'None_Sympton': <tf.Tensor: shape=(), dtype=int64, numpy=0>, 'Pains': <tf.Tensor: shape=(), dtype=int64, numpy=0>, 'Nasal-Congestion': <tf.Tensor: shape=(), dtype=int64, numpy=0>, 'Runny-Nose': <tf.Tensor: shape=(), dtype=int64, numpy=0>, 'Diarrhea': <tf.Tensor: shape=(), dtype=int64, numpy=1>, 'None_Experiencing': <tf.Tensor: shape=(), dtype=int64, numpy=0>}\n",
      "Target: tf.Tensor([0 0 0 1], shape=(4,), dtype=int64)\n"
     ]
    }
   ],
   "source": [
    "for x, y in train_ds.take(1):\n",
    "    print(\"Input:\", x)\n",
    "    print(\"Target:\", y)"
   ]
  },
  {
   "cell_type": "code",
   "execution_count": 7,
   "id": "1342ceed-4573-4968-86d6-1e4b1276bde0",
   "metadata": {},
   "outputs": [],
   "source": [
    "train_ds = train_ds.batch(32)\n",
    "val_ds = val_ds.batch(32)"
   ]
  },
  {
   "cell_type": "code",
   "execution_count": 8,
   "id": "c698b814-2ddc-4e6b-9bfb-0f1bb26cd3a6",
   "metadata": {},
   "outputs": [],
   "source": [
    "from tensorflow.keras.layers import IntegerLookup\n",
    "from tensorflow.keras.layers import Normalization\n",
    "from tensorflow.keras.layers import StringLookup"
   ]
  },
  {
   "cell_type": "code",
   "execution_count": 9,
   "id": "5b65d019-4024-414e-a123-213fc73c808a",
   "metadata": {},
   "outputs": [],
   "source": [
    "def encode_categorical_feature(feature, name, dataset, is_string):\n",
    "    lookup_class = StringLookup if is_string else IntegerLookup\n",
    "    # Create a lookup layer which will turn strings into integer indices\n",
    "    lookup = lookup_class(output_mode=\"binary\")\n",
    "\n",
    "    # Prepare a Dataset that only yields our feature\n",
    "    feature_ds = dataset.map(lambda x, y: x[name])\n",
    "    feature_ds = feature_ds.map(lambda x: tf.expand_dims(x, -1))\n",
    "\n",
    "    # Learn the set of possible string values and assign them a fixed integer index\n",
    "    lookup.adapt(feature_ds)\n",
    "\n",
    "    # Turn the string input into integer indices\n",
    "    encoded_feature = lookup(feature)\n",
    "    return encoded_feature"
   ]
  },
  {
   "cell_type": "code",
   "execution_count": 10,
   "id": "30e6a2d5-5d79-460f-abdd-3ce14b220516",
   "metadata": {},
   "outputs": [],
   "source": [
    "# Categorical features encoded as integers\n",
    "Fever = keras.Input(shape=(1,), name=\"Fever\", dtype=\"int64\")\n",
    "Tiredness = keras.Input(shape=(1,), name=\"Tiredness\", dtype=\"int64\")\n",
    "Dry_Cough = keras.Input(shape=(1,), name=\"Dry-Cough\", dtype=\"int64\")\n",
    "Difficulty_in_Breathing = keras.Input(shape=(1,), name=\"Difficulty-in-Breathing\", dtype=\"int64\")\n",
    "Sore_Throat = keras.Input(shape=(1,), name=\"Sore-Throat\", dtype=\"int64\")\n",
    "None_Sympton = keras.Input(shape=(1,), name=\"None_Sympton\", dtype=\"int64\")\n",
    "Pains = keras.Input(shape=(1,), name=\"Pains\", dtype=\"int64\")\n",
    "Nasal_Congestion = keras.Input(shape=(1,), name=\"Nasal-Congestion\", dtype=\"int64\")\n",
    "Runny_Nose = keras.Input(shape=(1,), name=\"Runny-Nose\", dtype=\"int64\")\n",
    "Diarrhea = keras.Input(shape=(1,), name=\"Diarrhea\", dtype=\"int64\")\n",
    "None_Experiencing = keras.Input(shape=(1,), name=\"None_Experiencing\", dtype=\"int64\")\n",
    "\n",
    "all_inputs = [\n",
    "    Fever,\n",
    "    Tiredness,\n",
    "    Dry_Cough,\n",
    "    Difficulty_in_Breathing,\n",
    "    Sore_Throat,\n",
    "    None_Sympton,\n",
    "    Pains,\n",
    "    Nasal_Congestion,\n",
    "    Runny_Nose,\n",
    "    Diarrhea,\n",
    "    None_Experiencing,\n",
    "]\n",
    "\n",
    "# Integer categorical features\n",
    "Fever_encoded = encode_categorical_feature(Fever, \"Fever\", train_ds, False)\n",
    "Tiredness_encoded = encode_categorical_feature(Tiredness, \"Tiredness\", train_ds, False)\n",
    "Dry_Cough_encoded = encode_categorical_feature(Dry_Cough, \"Dry-Cough\", train_ds, False)\n",
    "Difficulty_in_Breathing_encoded = encode_categorical_feature(Difficulty_in_Breathing, \"Difficulty-in-Breathing\", train_ds, False)\n",
    "Sore_Throat_encoded = encode_categorical_feature(Sore_Throat, \"Sore-Throat\", train_ds, False)\n",
    "None_Sympton_encoded = encode_categorical_feature(None_Sympton, \"None_Sympton\", train_ds, False)\n",
    "Pains_encoded = encode_categorical_feature(Pains, \"Pains\", train_ds, False)\n",
    "Nasal_Congestion_encoded = encode_categorical_feature(Nasal_Congestion, \"Nasal-Congestion\", train_ds, False)\n",
    "Runny_Nose_encoded = encode_categorical_feature(Runny_Nose, \"Runny-Nose\", train_ds, False)\n",
    "Diarrhea_encoded = encode_categorical_feature(Diarrhea, \"Diarrhea\", train_ds, False)\n",
    "None_Experiencing_encoded = encode_categorical_feature(None_Experiencing, \"None_Experiencing\", train_ds, False)\n",
    "\n",
    "\n",
    "all_features = layers.concatenate(\n",
    "    [\n",
    "        Fever_encoded,\n",
    "        Tiredness_encoded,\n",
    "        Dry_Cough_encoded,\n",
    "        Difficulty_in_Breathing_encoded,\n",
    "        Sore_Throat_encoded,\n",
    "        None_Sympton_encoded,\n",
    "        Pains_encoded,\n",
    "        Nasal_Congestion_encoded,\n",
    "        Runny_Nose_encoded,\n",
    "        Diarrhea_encoded,\n",
    "        None_Experiencing_encoded\n",
    "    ]\n",
    ")"
   ]
  },
  {
   "cell_type": "code",
   "execution_count": 11,
   "id": "b4155ca3-d658-4529-93ad-0df87ebe6422",
   "metadata": {},
   "outputs": [
    {
     "name": "stdout",
     "output_type": "stream",
     "text": [
      "Model: \"model\"\n",
      "__________________________________________________________________________________________________\n",
      " Layer (type)                   Output Shape         Param #     Connected to                     \n",
      "==================================================================================================\n",
      " Fever (InputLayer)             [(None, 1)]          0           []                               \n",
      "                                                                                                  \n",
      " Tiredness (InputLayer)         [(None, 1)]          0           []                               \n",
      "                                                                                                  \n",
      " Dry-Cough (InputLayer)         [(None, 1)]          0           []                               \n",
      "                                                                                                  \n",
      " Difficulty-in-Breathing (Input  [(None, 1)]         0           []                               \n",
      " Layer)                                                                                           \n",
      "                                                                                                  \n",
      " Sore-Throat (InputLayer)       [(None, 1)]          0           []                               \n",
      "                                                                                                  \n",
      " None_Sympton (InputLayer)      [(None, 1)]          0           []                               \n",
      "                                                                                                  \n",
      " Pains (InputLayer)             [(None, 1)]          0           []                               \n",
      "                                                                                                  \n",
      " Nasal-Congestion (InputLayer)  [(None, 1)]          0           []                               \n",
      "                                                                                                  \n",
      " Runny-Nose (InputLayer)        [(None, 1)]          0           []                               \n",
      "                                                                                                  \n",
      " Diarrhea (InputLayer)          [(None, 1)]          0           []                               \n",
      "                                                                                                  \n",
      " None_Experiencing (InputLayer)  [(None, 1)]         0           []                               \n",
      "                                                                                                  \n",
      " integer_lookup (IntegerLookup)  (None, 3)           0           ['Fever[0][0]']                  \n",
      "                                                                                                  \n",
      " integer_lookup_1 (IntegerLooku  (None, 3)           0           ['Tiredness[0][0]']              \n",
      " p)                                                                                               \n",
      "                                                                                                  \n",
      " integer_lookup_2 (IntegerLooku  (None, 3)           0           ['Dry-Cough[0][0]']              \n",
      " p)                                                                                               \n",
      "                                                                                                  \n",
      " integer_lookup_3 (IntegerLooku  (None, 3)           0           ['Difficulty-in-Breathing[0][0]']\n",
      " p)                                                                                               \n",
      "                                                                                                  \n",
      " integer_lookup_4 (IntegerLooku  (None, 3)           0           ['Sore-Throat[0][0]']            \n",
      " p)                                                                                               \n",
      "                                                                                                  \n",
      " integer_lookup_5 (IntegerLooku  (None, 3)           0           ['None_Sympton[0][0]']           \n",
      " p)                                                                                               \n",
      "                                                                                                  \n",
      " integer_lookup_6 (IntegerLooku  (None, 3)           0           ['Pains[0][0]']                  \n",
      " p)                                                                                               \n",
      "                                                                                                  \n",
      " integer_lookup_7 (IntegerLooku  (None, 3)           0           ['Nasal-Congestion[0][0]']       \n",
      " p)                                                                                               \n",
      "                                                                                                  \n",
      " integer_lookup_8 (IntegerLooku  (None, 3)           0           ['Runny-Nose[0][0]']             \n",
      " p)                                                                                               \n",
      "                                                                                                  \n",
      " integer_lookup_9 (IntegerLooku  (None, 3)           0           ['Diarrhea[0][0]']               \n",
      " p)                                                                                               \n",
      "                                                                                                  \n",
      " integer_lookup_10 (IntegerLook  (None, 3)           0           ['None_Experiencing[0][0]']      \n",
      " up)                                                                                              \n",
      "                                                                                                  \n",
      " concatenate (Concatenate)      (None, 33)           0           ['integer_lookup[0][0]',         \n",
      "                                                                  'integer_lookup_1[0][0]',       \n",
      "                                                                  'integer_lookup_2[0][0]',       \n",
      "                                                                  'integer_lookup_3[0][0]',       \n",
      "                                                                  'integer_lookup_4[0][0]',       \n",
      "                                                                  'integer_lookup_5[0][0]',       \n",
      "                                                                  'integer_lookup_6[0][0]',       \n",
      "                                                                  'integer_lookup_7[0][0]',       \n",
      "                                                                  'integer_lookup_8[0][0]',       \n",
      "                                                                  'integer_lookup_9[0][0]',       \n",
      "                                                                  'integer_lookup_10[0][0]']      \n",
      "                                                                                                  \n",
      " dense (Dense)                  (None, 512)          17408       ['concatenate[0][0]']            \n",
      "                                                                                                  \n",
      " dropout (Dropout)              (None, 512)          0           ['dense[0][0]']                  \n",
      "                                                                                                  \n",
      " dense_1 (Dense)                (None, 4)            2052        ['dropout[0][0]']                \n",
      "                                                                                                  \n",
      "==================================================================================================\n",
      "Total params: 19,460\n",
      "Trainable params: 19,460\n",
      "Non-trainable params: 0\n",
      "__________________________________________________________________________________________________\n"
     ]
    }
   ],
   "source": [
    "x = layers.Dense(512, activation=\"relu\")(all_features)\n",
    "x = layers.Dropout(0.5)(x)\n",
    "output = layers.Dense(4, activation=\"softmax\")(x)\n",
    "model = keras.Model(all_inputs, output)\n",
    "model.compile(\"adam\", \"categorical_crossentropy\", metrics=[\"accuracy\"])\n",
    "model.summary()"
   ]
  },
  {
   "cell_type": "code",
   "execution_count": 12,
   "id": "67fb9609-d0a2-478f-b3d3-b74fbca57660",
   "metadata": {},
   "outputs": [
    {
     "name": "stdout",
     "output_type": "stream",
     "text": [
      "You must install pydot (`pip install pydot`) and install graphviz (see instructions at https://graphviz.gitlab.io/download/) for plot_model/model_to_dot to work.\n"
     ]
    }
   ],
   "source": [
    "# `rankdir='LR'` is to make the graph horizontal.\n",
    "keras.utils.plot_model(model, show_shapes=True, rankdir=\"LR\")"
   ]
  },
  {
   "cell_type": "code",
   "execution_count": 13,
   "id": "6730ae91-de2d-41ff-8f36-540df5b8445e",
   "metadata": {},
   "outputs": [
    {
     "name": "stdout",
     "output_type": "stream",
     "text": [
      "Epoch 1/10\n"
     ]
    },
    {
     "name": "stderr",
     "output_type": "stream",
     "text": [
      "D:\\ANACONDA\\envs\\Capstone\\lib\\site-packages\\keras\\engine\\functional.py:566: UserWarning: Input dict contained keys ['Unnamed: 0'] which did not match any model input. They will be ignored by the model.\n",
      "  inputs = self._flatten_to_reference_inputs(inputs)\n"
     ]
    },
    {
     "name": "stdout",
     "output_type": "stream",
     "text": [
      "6336/6336 [==============================] - 32s 5ms/step - loss: 1.3887 - accuracy: 0.2494 - val_loss: 1.3865 - val_accuracy: 0.2479\n",
      "Epoch 2/10\n",
      "6336/6336 [==============================] - 31s 5ms/step - loss: 1.3864 - accuracy: 0.2503 - val_loss: 1.3864 - val_accuracy: 0.2479\n",
      "Epoch 3/10\n",
      "6336/6336 [==============================] - 31s 5ms/step - loss: 1.3864 - accuracy: 0.2491 - val_loss: 1.3866 - val_accuracy: 0.2495\n",
      "Epoch 4/10\n",
      "6336/6336 [==============================] - 31s 5ms/step - loss: 1.3864 - accuracy: 0.2490 - val_loss: 1.3863 - val_accuracy: 0.2495\n",
      "Epoch 5/10\n",
      "6336/6336 [==============================] - 32s 5ms/step - loss: 1.3864 - accuracy: 0.2504 - val_loss: 1.3863 - val_accuracy: 0.2479\n",
      "Epoch 6/10\n",
      "6336/6336 [==============================] - 32s 5ms/step - loss: 1.3864 - accuracy: 0.2494 - val_loss: 1.3863 - val_accuracy: 0.2516\n",
      "Epoch 7/10\n",
      "6336/6336 [==============================] - 31s 5ms/step - loss: 1.3864 - accuracy: 0.2492 - val_loss: 1.3863 - val_accuracy: 0.2495\n",
      "Epoch 8/10\n",
      "6336/6336 [==============================] - 32s 5ms/step - loss: 1.3864 - accuracy: 0.2488 - val_loss: 1.3863 - val_accuracy: 0.2509\n",
      "Epoch 9/10\n",
      "6336/6336 [==============================] - 32s 5ms/step - loss: 1.3864 - accuracy: 0.2497 - val_loss: 1.3864 - val_accuracy: 0.2495\n",
      "Epoch 10/10\n",
      "6336/6336 [==============================] - 32s 5ms/step - loss: 1.3864 - accuracy: 0.2499 - val_loss: 1.3863 - val_accuracy: 0.2516\n"
     ]
    }
   ],
   "source": [
    "history = model.fit(train_ds, epochs=10, batch_size=512, validation_data=val_ds)"
   ]
  },
  {
   "cell_type": "code",
   "execution_count": 14,
   "id": "e540054b-80c9-43b8-827e-6d6ef51694d7",
   "metadata": {},
   "outputs": [
    {
     "data": {
      "image/png": "[encoded data removed]",
      "text/plain": [
       "<Figure size 432x288 with 1 Axes>"
      ]
     },
     "metadata": {
      "needs_background": "light"
     },
     "output_type": "display_data"
    },
    {
     "data": {
      "image/png": "[encoded data removed]",
      "text/plain": [
       "<Figure size 432x288 with 1 Axes>"
      ]
     },
     "metadata": {
      "needs_background": "light"
     },
     "output_type": "display_data"
    }
   ],
   "source": [
    "import matplotlib.pyplot as plt\n",
    "# Plot the chart for accuracy and loss on both training and validation\n",
    "acc = history.history['accuracy']\n",
    "val_acc = history.history['val_accuracy']\n",
    "loss = history.history['loss']\n",
    "val_loss = history.history['val_loss']\n",
    "\n",
    "epochs = range(len(acc))\n",
    "\n",
    "plt.plot(epochs, acc, 'r', label='Training accuracy')\n",
    "plt.plot(epochs, val_acc, 'b', label='Validation accuracy')\n",
    "plt.title('Training and validation accuracy')\n",
    "plt.legend()\n",
    "plt.figure()\n",
    "\n",
    "plt.plot(epochs, loss, 'r', label='Training Loss')\n",
    "plt.plot(epochs, val_loss, 'b', label='Validation Loss')\n",
    "plt.title('Training and validation loss')\n",
    "plt.legend()\n",
    "\n",
    "plt.show()"
   ]
  },
  {
   "cell_type": "code",
   "execution_count": 15,
   "id": "2866b431-d234-472b-84a2-69334729ac02",
   "metadata": {},
   "outputs": [
    {
     "name": "stderr",
     "output_type": "stream",
     "text": [
      "WARNING:absl:Function `_wrapped_model` contains input name(s) Fever, Tiredness, Dry-Cough, Difficulty-in-Breathing, Sore-Throat, None_Sympton, Pains, Nasal-Congestion, Runny-Nose, Diarrhea, None_Experiencing with unsupported characters which will be renamed to fever, tiredness, dry_cough, difficulty_in_breathing, sore_throat, none_sympton, pains, nasal_congestion, runny_nose, diarrhea, none_experiencing in the SavedModel.\n"
     ]
    },
    {
     "name": "stdout",
     "output_type": "stream",
     "text": [
      "INFO:tensorflow:Assets written to: model_percobaan\\assets\n"
     ]
    },
    {
     "name": "stderr",
     "output_type": "stream",
     "text": [
      "INFO:tensorflow:Assets written to: model_percobaan\\assets\n"
     ]
    }
   ],
   "source": [
    "tf.keras.models.save_model(\n",
    "    model,\n",
    "    \"model_percobaan\")"
   ]
  },
  {
   "cell_type": "code",
   "execution_count": null,
   "id": "471a9134-5cd5-42fa-99c2-e2895afa970f",
   "metadata": {},
   "outputs": [],
   "source": []
  }
 ],
 "metadata": {
  "kernelspec": {
   "display_name": "Python 3 (ipykernel)",
   "language": "python",
   "name": "python3"
  },
  "language_info": {
   "codemirror_mode": {
    "name": "ipython",
    "version": 3
   },
   "file_extension": ".py",
   "mimetype": "text/x-python",
   "name": "python",
   "nbconvert_exporter": "python",
   "pygments_lexer": "ipython3",
   "version": "3.10.4"
  }
 },
 "nbformat": 4,
 "nbformat_minor": 5
}
